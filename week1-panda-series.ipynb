{
 "cells": [
  {
   "cell_type": "code",
   "execution_count": 7,
   "id": "2497fad5-fa85-45fa-8bd6-053f6e450f48",
   "metadata": {},
   "outputs": [],
   "source": [
    "import pandas as pd\n",
    "import numpy as np"
   ]
  },
  {
   "cell_type": "markdown",
   "id": "b1633f00-db3f-4920-9f0d-8d9a6cfcef01",
   "metadata": {},
   "source": [
    "# Series \n",
    "A pandas.Series having an **index** is the main difference between a panda.Series and a NumPy array. see the difference: "
   ]
  },
  {
   "cell_type": "code",
   "execution_count": 8,
   "id": "93d949dd-a4f7-4dde-970c-d5cf6327d40e",
   "metadata": {
    "tags": []
   },
   "outputs": [
    {
     "name": "stdout",
     "output_type": "stream",
     "text": [
      "<class 'numpy.ndarray'>\n",
      "[ 0.40874307 -0.57608423 -0.09010387 -2.16742529] \n",
      "\n",
      "<class 'pandas.core.series.Series'>\n",
      "0    0.408743\n",
      "1   -0.576084\n",
      "2   -0.090104\n",
      "3   -2.167425\n",
      "dtype: float64\n"
     ]
    }
   ],
   "source": [
    "# A numpy array\n",
    "arr = np.random.randn(4) # random values from std normal distribution\n",
    "print(type(arr))\n",
    "print(arr, \"\\n\")\n",
    "\n",
    "# A pandas series made from the previous array\n",
    "s = pd.Series(arr)\n",
    "print(type(s))\n",
    "print(s)"
   ]
  },
  {
   "cell_type": "markdown",
   "id": "0eff4d87-f37c-48c1-89b9-c95d8b15490c",
   "metadata": {},
   "source": [
    "# Creating a pandas.Series\n",
    "The basic method to create a pandas.Series is to call"
   ]
  },
  {
   "cell_type": "code",
   "execution_count": 9,
   "id": "9c4de1ba-e94f-40c9-989c-e5570003f65e",
   "metadata": {},
   "outputs": [
    {
     "data": {
      "text/plain": [
       "2023    0\n",
       "2024    1\n",
       "2025    2\n",
       "dtype: int64"
      ]
     },
     "execution_count": 9,
     "metadata": {},
     "output_type": "execute_result"
    }
   ],
   "source": [
    "# A series from a numpy array \n",
    "pd.Series(np.arange(3), index=[2023, 2024, 2025])"
   ]
  },
  {
   "cell_type": "markdown",
   "id": "644a13af-4372-45c4-8ea1-d5c64874847b",
   "metadata": {},
   "source": [
    "# Check-in\n",
    "The integer number -999 is often used to represent missing values. Create a pandas.Series named s with four integer values, two of which are -999. The index of this series should be the the letters A through D."
   ]
  },
  {
   "cell_type": "code",
   "execution_count": 10,
   "id": "f9d7047a-1101-4887-a46c-f73408b9c4c7",
   "metadata": {
    "tags": []
   },
   "outputs": [
    {
     "data": {
      "text/plain": [
       "A     12\n",
       "B   -999\n",
       "C     15\n",
       "D   -999\n",
       "dtype: int64"
      ]
     },
     "execution_count": 10,
     "metadata": {},
     "output_type": "execute_result"
    }
   ],
   "source": [
    "s = pd.Series([12, -999, 15, -999], index=[\"A\",\"B\",\"C\",\"D\"])\n",
    "s"
   ]
  },
  {
   "cell_type": "code",
   "execution_count": 12,
   "id": "21890bd4-b2ff-4e1d-9ef9-0442c79b0baa",
   "metadata": {
    "tags": []
   },
   "outputs": [
    {
     "data": {
      "text/plain": [
       "A    12.0\n",
       "B     NaN\n",
       "C    15.0\n",
       "D     NaN\n",
       "dtype: float64"
      ]
     },
     "execution_count": 12,
     "metadata": {},
     "output_type": "execute_result"
    }
   ],
   "source": [
    "s = s.mask(s == -999)\n",
    "s"
   ]
  },
  {
   "cell_type": "markdown",
   "id": "d375a5fb-36e4-441e-99e4-b7f85be836a6",
   "metadata": {},
   "source": [
    "We can access the data frame’s column names via the columns attribute. Update the column names to C1 and C2 by updating this attribute."
   ]
  },
  {
   "cell_type": "code",
   "execution_count": 13,
   "id": "9a29810e-f89f-4ea7-aa2e-cd67b4d1052a",
   "metadata": {
    "tags": []
   },
   "outputs": [
    {
     "data": {
      "text/html": [
       "<div>\n",
       "<style scoped>\n",
       "    .dataframe tbody tr th:only-of-type {\n",
       "        vertical-align: middle;\n",
       "    }\n",
       "\n",
       "    .dataframe tbody tr th {\n",
       "        vertical-align: top;\n",
       "    }\n",
       "\n",
       "    .dataframe thead th {\n",
       "        text-align: right;\n",
       "    }\n",
       "</style>\n",
       "<table border=\"1\" class=\"dataframe\">\n",
       "  <thead>\n",
       "    <tr style=\"text-align: right;\">\n",
       "      <th></th>\n",
       "      <th>C1</th>\n",
       "      <th>C2</th>\n",
       "    </tr>\n",
       "  </thead>\n",
       "  <tbody>\n",
       "    <tr>\n",
       "      <th>a</th>\n",
       "      <td>0</td>\n",
       "      <td>3.1</td>\n",
       "    </tr>\n",
       "    <tr>\n",
       "      <th>b</th>\n",
       "      <td>1</td>\n",
       "      <td>3.2</td>\n",
       "    </tr>\n",
       "    <tr>\n",
       "      <th>c</th>\n",
       "      <td>2</td>\n",
       "      <td>3.3</td>\n",
       "    </tr>\n",
       "  </tbody>\n",
       "</table>\n",
       "</div>"
      ],
      "text/plain": [
       "   C1   C2\n",
       "a   0  3.1\n",
       "b   1  3.2\n",
       "c   2  3.3"
      ]
     },
     "execution_count": 13,
     "metadata": {},
     "output_type": "execute_result"
    }
   ],
   "source": [
    "# Initialize dictionary with columns' data \n",
    "d = {'col_name_1' : pd.Series(np.arange(3)),\n",
    "     'col_name_2' : pd.Series([3.1, 3.2, 3.3]),\n",
    "     }\n",
    "d\n",
    "\n",
    "# Create data frame\n",
    "df = pd.DataFrame(d)\n",
    "df\n",
    "\n",
    "# Change index\n",
    "df.index = ['a','b','c']\n",
    "df\n",
    "\n",
    "# Change column names\n",
    "df = df.rename(columns={'col_name_1': 'C1', 'col_name_2': 'C2'})\n",
    "df\n"
   ]
  },
  {
   "cell_type": "code",
   "execution_count": 15,
   "id": "0dd98e0b-7281-4675-aeec-97f0d50fd1c9",
   "metadata": {
    "tags": []
   },
   "outputs": [],
   "source": [
    "# another way to change column names\n",
    "df.columns = ['C1', 'C2']"
   ]
  },
  {
   "cell_type": "code",
   "execution_count": null,
   "id": "727f8b83-96ca-4c24-ad8b-fb333162afb9",
   "metadata": {},
   "outputs": [],
   "source": []
  }
 ],
 "metadata": {
  "kernelspec": {
   "display_name": "Anaconda 3 (Base)",
   "language": "python",
   "name": "base"
  },
  "language_info": {
   "codemirror_mode": {
    "name": "ipython",
    "version": 3
   },
   "file_extension": ".py",
   "mimetype": "text/x-python",
   "name": "python",
   "nbconvert_exporter": "python",
   "pygments_lexer": "ipython3",
   "version": "3.9.13"
  }
 },
 "nbformat": 4,
 "nbformat_minor": 5
}
