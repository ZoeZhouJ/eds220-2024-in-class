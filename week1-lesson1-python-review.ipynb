{
 "cells": [
  {
   "cell_type": "markdown",
   "id": "fbdff525-c93b-4169-902e-37b52ecbf8e4",
   "metadata": {},
   "source": [
    "# Python review\n",
    "\n",
    "- recall basic python vocabulary\n",
    "- practice markdown syntax\n",
    "\n",
    "## Libraries and packages\n",
    "\n",
    "**library:** is a collection of code that we can use to perform specific tasks in our prorgams. It can be a single file or multiple files. \n",
    "\n",
    "**NumPy:**\n",
    "\n",
    "- core library for numerical computing in Python\n",
    "- many of libraries use NumPy arrays as their building blocks\n",
    "- computations on Numpy objects are optiimzed for speed and memory usage \n",
    "\n",
    "Let's import NumPy with its **standard abbreviation** 'np': \n"
   ]
  },
  {
   "cell_type": "code",
   "execution_count": 3,
   "id": "6a001e31-19e9-4065-85f1-32619278cddc",
   "metadata": {},
   "outputs": [],
   "source": [
    "import numpy as np \n"
   ]
  },
  {
   "cell_type": "markdown",
   "id": "90c62cae-2e94-4661-b78f-44c700c94a9a",
   "metadata": {},
   "source": [
    "## Variables\n",
    "\n",
    "**variable:** a name we assign to a particular object in Python\n",
    "\n",
    "Example: "
   ]
  },
  {
   "cell_type": "code",
   "execution_count": 4,
   "id": "1a701c25-b9b4-41ea-b746-f1d81ee65d15",
   "metadata": {},
   "outputs": [],
   "source": [
    "# Assign a small array to variable a\n",
    "a = np.array([[1,1,2],[3,5,8]])"
   ]
  },
  {
   "cell_type": "code",
   "execution_count": 5,
   "id": "cd9da8eb-5262-4cb3-8810-9fbf24afa35a",
   "metadata": {
    "tags": []
   },
   "outputs": [
    {
     "data": {
      "text/plain": [
       "array([[1, 1, 2],\n",
       "       [3, 5, 8]])"
      ]
     },
     "execution_count": 5,
     "metadata": {},
     "output_type": "execute_result"
    }
   ],
   "source": [
    "# Run call with variable name to show value\n",
    "a\n"
   ]
  },
  {
   "cell_type": "code",
   "execution_count": 6,
   "id": "75691521-f2c9-491f-871b-b90f6a662905",
   "metadata": {
    "tags": []
   },
   "outputs": [
    {
     "name": "stdout",
     "output_type": "stream",
     "text": [
      "[[1 1 2]\n",
      " [3 5 8]]\n"
     ]
    }
   ],
   "source": [
    "# Use 'print' function to print the value\n",
    "print(a)"
   ]
  },
  {
   "cell_type": "markdown",
   "id": "0393ea9f-df78-4718-bec3-57eaf96f4ae5",
   "metadata": {},
   "source": [
    "## Convention: Use 'snake_case' for naming variables\n",
    "'my-variable' or 'MyVariable' or 'myVariable',\n",
    "PEP 8 - style guide for Python Code recommends snake_case. \n",
    "\n",
    "**Remember that variable names should both be descriptive and concise**\n",
    "\n",
    "# Object\n",
    "**object**: (informally speaking) is a bundle of *properties* and *actions* about something specific. \n",
    "\n",
    "Example:\n",
    "\n",
    "object: data frame\n",
    "Properties: number of rows, names of columns, and date created\n",
    "Actions: selecting a specific row or adding a new column\n",
    "\n",
    "A variable is the name we give a specific object, and the same object can be referenced by different variables. \n",
    "\n",
    "In practice, we can often use the word variable and object interchangeably \n",
    "\n",
    "## Types\n",
    "\n",
    "Every object in Python has a **type**, the type tells us what kind of object it is. We can also call the type of an object, the **class** of an object, so class and type both mean what kind of object we have."
   ]
  },
  {
   "cell_type": "code",
   "execution_count": 8,
   "id": "4c20e48f-6d26-4bba-bdf5-f2a351d984e1",
   "metadata": {
    "tags": []
   },
   "outputs": [
    {
     "name": "stdout",
     "output_type": "stream",
     "text": [
      "[[1 1 2]\n",
      " [3 5 8]]\n"
     ]
    },
    {
     "data": {
      "text/plain": [
       "numpy.ndarray"
      ]
     },
     "execution_count": 8,
     "metadata": {},
     "output_type": "execute_result"
    }
   ],
   "source": [
    "print(a)\n",
    "type(a)"
   ]
  },
  {
   "cell_type": "markdown",
   "id": "36f1ae0a-5be8-43bd-86cf-a2bcaa4b05a8",
   "metadata": {},
   "source": [
    "The numpu.ndarray is the core object/data type of the NumPy package.\n"
   ]
  },
  {
   "cell_type": "code",
   "execution_count": 9,
   "id": "f6d4d47f-d878-4195-8ac8-a1ae5ee17db7",
   "metadata": {
    "tags": []
   },
   "outputs": [
    {
     "name": "stdout",
     "output_type": "stream",
     "text": [
      "1\n"
     ]
    },
    {
     "data": {
      "text/plain": [
       "numpy.int64"
      ]
     },
     "execution_count": 9,
     "metadata": {},
     "output_type": "execute_result"
    }
   ],
   "source": [
    "print(a[0,0])\n",
    "type(a[0,0])"
   ]
  },
  {
   "cell_type": "markdown",
   "id": "15c308c9-74d1-473e-8076-ff865bf30df1",
   "metadata": {},
   "source": [
    "numpy.int64 and not just the standard Python integer type int.\n",
    " \n",
    "NumPy type numpy.int64 is telling us 1 is an integer stored as a 64-bit number. \n",
    " \n",
    "check-in: access the value 5 in array 'a' "
   ]
  },
  {
   "cell_type": "code",
   "execution_count": 10,
   "id": "5e09ef02-50c0-4544-ac2d-9ead07bcbfca",
   "metadata": {
    "tags": []
   },
   "outputs": [
    {
     "name": "stdout",
     "output_type": "stream",
     "text": [
      "5\n"
     ]
    }
   ],
   "source": [
    "print(a[1,1])"
   ]
  },
  {
   "cell_type": "markdown",
   "id": "d95e6e2d-dce8-4057-b45f-e147d05cbcf9",
   "metadata": {},
   "source": [
    "## Functions\n",
    "`print` was our first example of a Python function. \n",
    "\n",
    "Functions take in a set of **arguments**, separated by commas, and use those arguments to create an **output**. \n",
    "\n",
    "In the course we'll be using argument and parameter interchangeably. But they do have slightly different meanings. \n"
   ]
  },
  {
   "cell_type": "code",
   "execution_count": 11,
   "id": "09d97911-c55a-4601-a9ab-fe39e5e193c2",
   "metadata": {
    "tags": []
   },
   "outputs": [
    {
     "data": {
      "text/plain": [
       "\u001b[0;31mDocstring:\u001b[0m\n",
       "print(value, ..., sep=' ', end='\\n', file=sys.stdout, flush=False)\n",
       "\n",
       "Prints the values to a stream, or to sys.stdout by default.\n",
       "Optional keyword arguments:\n",
       "file:  a file-like object (stream); defaults to the current sys.stdout.\n",
       "sep:   string inserted between values, default a space.\n",
       "end:   string appended after the last value, default a newline.\n",
       "flush: whether to forcibly flush the stream.\n",
       "\u001b[0;31mType:\u001b[0m      builtin_function_or_method\n"
      ]
     },
     "metadata": {},
     "output_type": "display_data"
    }
   ],
   "source": [
    "?print"
   ]
  },
  {
   "cell_type": "markdown",
   "id": "02c5c039-28d7-403f-a84f-12ff828c4a8b",
   "metadata": {},
   "source": [
    "What we obtain is a **docstring**, a special type of comment that is used to document how a function (or class, or module) works. \n",
    "\n",
    "Notice is that there are different tyupes of aeguments inside the function's parenthesis. \n",
    "\n",
    "Roughly speaking, a function has two types of arguments:\n",
    "\n",
    "-**non-optional arguments**: argumemts *you* have to specify for the function to work \n",
    "\n",
    "-**optional arguments**: arguments that are prefilled with a default value by the function, but you can override them. Optional arguments appear inside the parenthesis () in the form `optional_argument = default_value.`\n",
    "\n",
    "Example\n",
    "\n",
    "`end` is a parameter in `print`with default value a new line\n",
    "we can pass the value `:-)` to this parameter so that it finishes the line with `:-)` instead:"
   ]
  },
  {
   "cell_type": "code",
   "execution_count": 12,
   "id": "239743b4-ba98-46f6-a205-0553a757d038",
   "metadata": {
    "tags": []
   },
   "outputs": [
    {
     "name": "stdout",
     "output_type": "stream",
     "text": [
      "change the end parameter:-)"
     ]
    }
   ],
   "source": [
    "print('change the end parameter', end=':-)')"
   ]
  },
  {
   "cell_type": "markdown",
   "id": "a130fe0e-7469-4363-8d4a-21d48bad88c3",
   "metadata": {},
   "source": [
    "## Attributes and methods\n",
    "\n",
    "An object in Python has attributes and methods. \n",
    "\n",
    "- **attribute**: a property of the object, some piece of information about it. \n",
    "- **method**: a a procedure associated with an object, so it is an action where the main ingredient is the object.\n",
    "\n",
    "## Check-in\n",
    "\n",
    "Make a diagram like the cat one, for a class `fish`.\n",
    "Attribute: habitat,\n",
    "Methods: swim()\n",
    "\n",
    "\n",
    "Example:\n",
    "NumPy arrays have many methods and attributes, For example:\n"
   ]
  },
  {
   "cell_type": "code",
   "execution_count": 13,
   "id": "32bca8eb-bd7f-4a0b-867f-e2ac6024cf83",
   "metadata": {
    "tags": []
   },
   "outputs": [
    {
     "data": {
      "text/plain": [
       "array([[1, 1, 2],\n",
       "       [3, 5, 8]])"
      ]
     },
     "execution_count": 13,
     "metadata": {},
     "output_type": "execute_result"
    }
   ],
   "source": [
    "a\n"
   ]
  },
  {
   "cell_type": "code",
   "execution_count": 14,
   "id": "c15843b3-2dc2-45f6-b77a-f6caebb8d9e0",
   "metadata": {
    "tags": []
   },
   "outputs": [
    {
     "name": "stdout",
     "output_type": "stream",
     "text": [
      "[[1 3]\n",
      " [1 5]\n",
      " [2 8]]\n"
     ]
    }
   ],
   "source": [
    "# T is an example of an attribute, it returns the transpose of array\n",
    "print(a.T)"
   ]
  },
  {
   "cell_type": "code",
   "execution_count": 15,
   "id": "91f50360-35e8-4672-8cec-107b07e4d0cf",
   "metadata": {
    "tags": []
   },
   "outputs": [
    {
     "data": {
      "text/plain": [
       "numpy.ndarray"
      ]
     },
     "execution_count": 15,
     "metadata": {},
     "output_type": "execute_result"
    }
   ],
   "source": [
    "type(a.T)"
   ]
  },
  {
   "cell_type": "code",
   "execution_count": 17,
   "id": "b2978ada-9587-427d-ac90-9e1b870309fa",
   "metadata": {
    "tags": []
   },
   "outputs": [
    {
     "name": "stdout",
     "output_type": "stream",
     "text": [
      "(2, 3)\n",
      "<class 'tuple'>\n"
     ]
    }
   ],
   "source": [
    "# shape another attrbute tells us the shape of the array\n",
    "print(a.shape)\n",
    "print(type(a.shape))"
   ]
  },
  {
   "cell_type": "code",
   "execution_count": 19,
   "id": "35198708-a563-4f0e-b424-046949be716a",
   "metadata": {
    "tags": []
   },
   "outputs": [
    {
     "name": "stdout",
     "output_type": "stream",
     "text": [
      "dim: 2 | type: <class 'int'>\n"
     ]
    }
   ],
   "source": [
    "# ndim is an attribute holding the number of array dimensions\n",
    "print('dim:', a.ndim, '| type:', type(a.ndim))"
   ]
  },
  {
   "cell_type": "markdown",
   "id": "9af526f5-f0e6-4506-9607-b04d7478219b",
   "metadata": {},
   "source": [
    "Attributes can have many different data types. \n",
    "\n",
    "Some examples of methods. "
   ]
  },
  {
   "cell_type": "code",
   "execution_count": 20,
   "id": "d95dd92e-a575-49ed-af0e-19991665a254",
   "metadata": {
    "tags": []
   },
   "outputs": [
    {
     "name": "stdout",
     "output_type": "stream",
     "text": [
      "[[1 1 2]\n",
      " [3 5 8]]\n"
     ]
    },
    {
     "data": {
      "text/plain": [
       "array([1, 1, 2])"
      ]
     },
     "execution_count": 20,
     "metadata": {},
     "output_type": "execute_result"
    }
   ],
   "source": [
    "# The min method returns the minimum value in the array along a specific axis\n",
    "print(a)\n",
    "a.min(axis=0)"
   ]
  },
  {
   "cell_type": "code",
   "execution_count": 21,
   "id": "5e468296-60ff-4072-a8d1-9576c5a0ef28",
   "metadata": {
    "tags": []
   },
   "outputs": [
    {
     "data": {
      "text/plain": [
       "1"
      ]
     },
     "execution_count": 21,
     "metadata": {},
     "output_type": "execute_result"
    }
   ],
   "source": [
    "# Run min method with axis\n",
    "a.min()"
   ]
  },
  {
   "cell_type": "markdown",
   "id": "e96560db-352f-4cc8-8d68-93842b4dc68b",
   "metadata": {},
   "source": [
    "Remember, methods are **function** associated with an object. We can confirm this!"
   ]
  },
  {
   "cell_type": "code",
   "execution_count": 22,
   "id": "92de6fe5-98cc-4b32-b041-8bb5e2a17c12",
   "metadata": {
    "tags": []
   },
   "outputs": [
    {
     "data": {
      "text/plain": [
       "[[1, 1, 2], [3, 5, 8]]"
      ]
     },
     "execution_count": 22,
     "metadata": {},
     "output_type": "execute_result"
    }
   ],
   "source": [
    "# method tolist() transform array into a list\n",
    "a.tolist()"
   ]
  },
  {
   "cell_type": "code",
   "execution_count": 23,
   "id": "a98cc385-4aab-4984-a63f-7c9ea21bea1e",
   "metadata": {
    "tags": []
   },
   "outputs": [
    {
     "data": {
      "text/plain": [
       "builtin_function_or_method"
      ]
     },
     "execution_count": 23,
     "metadata": {},
     "output_type": "execute_result"
    }
   ],
   "source": [
    "type(a.tolist)"
   ]
  },
  {
   "cell_type": "code",
   "execution_count": 24,
   "id": "afc810bc-b2de-4fd9-9e27-efc922cd4833",
   "metadata": {
    "tags": []
   },
   "outputs": [
    {
     "data": {
      "text/plain": [
       "\u001b[0;31mDocstring:\u001b[0m\n",
       "print(value, ..., sep=' ', end='\\n', file=sys.stdout, flush=False)\n",
       "\n",
       "Prints the values to a stream, or to sys.stdout by default.\n",
       "Optional keyword arguments:\n",
       "file:  a file-like object (stream); defaults to the current sys.stdout.\n",
       "sep:   string inserted between values, default a space.\n",
       "end:   string appended after the last value, default a newline.\n",
       "flush: whether to forcibly flush the stream.\n",
       "\u001b[0;31mType:\u001b[0m      builtin_function_or_method\n"
      ]
     },
     "metadata": {},
     "output_type": "display_data"
    }
   ],
   "source": [
    "?print"
   ]
  },
  {
   "cell_type": "code",
   "execution_count": 26,
   "id": "6698f6ad-1309-42c0-a2ed-85e2fb24328c",
   "metadata": {
    "tags": []
   },
   "outputs": [
    {
     "name": "stdout",
     "output_type": "stream",
     "text": [
      "77%99%77\n"
     ]
    }
   ],
   "source": [
    "var1 = 77\n",
    "var2 = '99'\n",
    "print(var1, var2, var1, sep='%')"
   ]
  },
  {
   "cell_type": "code",
   "execution_count": null,
   "id": "4b0c7ea2-10c6-40b0-98af-712f41ce2fb6",
   "metadata": {},
   "outputs": [],
   "source": []
  }
 ],
 "metadata": {
  "kernelspec": {
   "display_name": "Anaconda 3 (Base)",
   "language": "python",
   "name": "base"
  },
  "language_info": {
   "codemirror_mode": {
    "name": "ipython",
    "version": 3
   },
   "file_extension": ".py",
   "mimetype": "text/x-python",
   "name": "python",
   "nbconvert_exporter": "python",
   "pygments_lexer": "ipython3",
   "version": "3.9.13"
  }
 },
 "nbformat": 4,
 "nbformat_minor": 5
}
