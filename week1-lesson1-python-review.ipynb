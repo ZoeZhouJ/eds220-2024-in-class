{
 "cells": [
  {
   "cell_type": "markdown",
   "id": "fbdff525-c93b-4169-902e-37b52ecbf8e4",
   "metadata": {},
   "source": [
    "# Python review\n",
    "\n",
    "- recall basic python vocabulary\n",
    "- practice markdown syntax\n",
    "\n",
    "## Libraries and packages\n",
    "\n",
    "**library:** is a collection of code that we can use to perform specific tasks in our prorgams. It can be a single file or multiple files. \n",
    "\n",
    "**NumPy:**\n",
    "\n",
    "- core library for numerical computing in Python\n",
    "- many of libraries use NumPy arrays as their building blocks\n",
    "- computations on Numpy objects are optiimzed for speed and memory usage \n",
    "\n",
    "Let's import NumPy with its **standard abbreviation** 'np': \n"
   ]
  },
  {
   "cell_type": "code",
   "execution_count": null,
   "id": "6a001e31-19e9-4065-85f1-32619278cddc",
   "metadata": {},
   "outputs": [],
   "source": [
    "import numpy as np \n"
   ]
  },
  {
   "cell_type": "markdown",
   "id": "90c62cae-2e94-4661-b78f-44c700c94a9a",
   "metadata": {},
   "source": [
    "## Variables\n",
    "\n",
    "**variable:** a name we assign to a particular object in Python\n",
    "\n",
    "Example: "
   ]
  },
  {
   "cell_type": "code",
   "execution_count": null,
   "id": "1a701c25-b9b4-41ea-b746-f1d81ee65d15",
   "metadata": {},
   "outputs": [],
   "source": [
    "# Assign a small array to variable a\n",
    "a = np.array([[1,1,2],[3,5,8]])"
   ]
  },
  {
   "cell_type": "code",
   "execution_count": null,
   "id": "cd9da8eb-5262-4cb3-8810-9fbf24afa35a",
   "metadata": {},
   "outputs": [],
   "source": [
    "# Run call with variable name to show value\n",
    "a\n"
   ]
  }
 ],
 "metadata": {
  "kernelspec": {
   "display_name": "Anaconda 3 (Base)",
   "language": "python",
   "name": "base"
  },
  "language_info": {
   "codemirror_mode": {
    "name": "ipython",
    "version": 3
   },
   "file_extension": ".py",
   "mimetype": "text/x-python",
   "name": "python",
   "nbconvert_exporter": "python",
   "pygments_lexer": "ipython3",
   "version": "3.9.13"
  }
 },
 "nbformat": 4,
 "nbformat_minor": 5
}
